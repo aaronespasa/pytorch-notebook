{
 "cells": [
  {
   "cell_type": "markdown",
   "metadata": {},
   "source": [
    "# Basics on how to build a simple Neural Network"
   ]
  },
  {
   "cell_type": "markdown",
   "metadata": {},
   "source": [
    "## 0. Imports"
   ]
  },
  {
   "cell_type": "code",
   "execution_count": 70,
   "metadata": {},
   "outputs": [],
   "source": [
    "import torch\n",
    "import torch.nn as nn # Network Modules\n",
    "import torch.optim as optim # Gradient Descent, SGD, Adam, ...\n",
    "import torch.nn.functional as F # Activation functions\n",
    "\n",
    "# The Data Loader gives us easier data set management\n",
    "# allowing us to create mini batches and this kind of things easily\n",
    "from torch.utils.data import DataLoader\n",
    "\n",
    "# Datasets from torchvision: https://pytorch.org/vision/stable/datasets.html\n",
    "import torchvision.datasets as datasets\n",
    "\n",
    "# Transformations to perform on our data set (for data augmentation, for example)\n",
    "import torchvision.transforms as transforms\n",
    "\n",
    "# Already implemented & pre-trained models from torchvsion: https://pytorch.org/vision/stable/models.html\n",
    "import torchvision.models\n",
    "\n",
    "from tqdm import tqdm # progress bar"
   ]
  },
  {
   "cell_type": "markdown",
   "metadata": {},
   "source": [
    "## 1. Create a Fully Connected Network"
   ]
  },
  {
   "cell_type": "markdown",
   "metadata": {},
   "source": [
    "Model of the neural network:"
   ]
  },
  {
   "cell_type": "code",
   "execution_count": 43,
   "metadata": {},
   "outputs": [],
   "source": [
    "class NN(nn.Module):\n",
    "    def __init__(self, input_size, num_classes):\n",
    "        # call the initialization of the nn.Module\n",
    "        super(NN, self).__init__()\n",
    "\n",
    "        # create here the NN modules that are going to be used\n",
    "        self.fc1 = nn.Linear(input_size, 50)\n",
    "        self.fc2 = nn.Linear(50, num_classes)\n",
    "    \n",
    "    def forward(self, x):\n",
    "        # assembly the modules that participate on the forward propagation part\n",
    "        x = F.relu(self.fc1(x))\n",
    "        x = self.fc2(x)\n",
    "        return x"
   ]
  },
  {
   "cell_type": "markdown",
   "metadata": {},
   "source": [
    "To import the CNN:"
   ]
  },
  {
   "cell_type": "code",
   "execution_count": 56,
   "metadata": {},
   "outputs": [],
   "source": [
    "from models.SimpleCNN import CNN\n",
    "\n",
    "# # to make sure it runs correctly (should output torch.Size([64, 10])):\n",
    "# model = CNN()\n",
    "# x = torch.randn(64, 1, 28, 28)\n",
    "# print(model(x).shape)"
   ]
  },
  {
   "cell_type": "markdown",
   "metadata": {},
   "source": [
    "## 2. Set Device"
   ]
  },
  {
   "cell_type": "code",
   "execution_count": 57,
   "metadata": {},
   "outputs": [],
   "source": [
    "DEVICE = torch.device('cuda' if torch.cuda.is_available() else 'cpu')"
   ]
  },
  {
   "cell_type": "markdown",
   "metadata": {},
   "source": [
    "## 3. Hyperparameters"
   ]
  },
  {
   "cell_type": "code",
   "execution_count": 58,
   "metadata": {},
   "outputs": [],
   "source": [
    "INPUT_SIZE = 784\n",
    "INPUT_CHANNELS = 1\n",
    "NUM_CLASSES = 10\n",
    "LEARNING_RATE = 0.001\n",
    "BATCH_SIZE = 64\n",
    "NUM_EPOCHS = 3\n",
    "LOAD_MODEL = True\n",
    "CHECKPOINT_NAME = \"checkpoints/my_checkpoint.pth.tar\""
   ]
  },
  {
   "cell_type": "markdown",
   "metadata": {},
   "source": [
    "## 4. Load Data"
   ]
  },
  {
   "cell_type": "markdown",
   "metadata": {},
   "source": [
    "- `root`: Where the dataset is going to be downloaded.\n",
    "- `train`: If True: download the training set. If False: Download the test set.\n",
    "- `transform`: Transformations to perform on the dataset (from NumPy to Tensor to be run on PyTorch)."
   ]
  },
  {
   "cell_type": "code",
   "execution_count": 59,
   "metadata": {},
   "outputs": [],
   "source": [
    "train_ds = datasets.MNIST(root='data', train=True, transform=transforms.ToTensor(), download=True)\n",
    "test_ds = datasets.MNIST(root='data', train=False, transform=transforms.ToTensor(), download=True)"
   ]
  },
  {
   "cell_type": "markdown",
   "metadata": {},
   "source": [
    "⚠️ Be careful not to shuffle the data if it has to follow an specific order, like in some NLP cases."
   ]
  },
  {
   "cell_type": "code",
   "execution_count": 60,
   "metadata": {},
   "outputs": [],
   "source": [
    "train_loader = DataLoader(dataset=train_ds, batch_size=BATCH_SIZE, shuffle=True)\n",
    "test_loader = DataLoader(dataset=test_ds, batch_size=BATCH_SIZE, shuffle=True)"
   ]
  },
  {
   "cell_type": "markdown",
   "metadata": {},
   "source": [
    "## 5. Initialize network"
   ]
  },
  {
   "cell_type": "markdown",
   "metadata": {},
   "source": [
    "> To choose the model, just decomment it and comment the rest"
   ]
  },
  {
   "cell_type": "markdown",
   "metadata": {},
   "source": [
    "Simple neural network (NN):"
   ]
  },
  {
   "cell_type": "code",
   "execution_count": 61,
   "metadata": {},
   "outputs": [],
   "source": [
    "# model = NN(input_size=INPUT_SIZE, num_classes=NUM_CLASSES).to(DEVICE)"
   ]
  },
  {
   "cell_type": "markdown",
   "metadata": {},
   "source": [
    "Convolutional neural network (CNN):"
   ]
  },
  {
   "cell_type": "code",
   "execution_count": 62,
   "metadata": {},
   "outputs": [],
   "source": [
    "model = CNN(in_channels=INPUT_CHANNELS, num_classes=NUM_CLASSES).to(DEVICE)"
   ]
  },
  {
   "cell_type": "markdown",
   "metadata": {},
   "source": [
    "VGG16:"
   ]
  },
  {
   "cell_type": "markdown",
   "metadata": {},
   "source": [
    "Initial model summary:\n",
    "```\n",
    "VGG(\n",
    "  (features): Sequential(\n",
    "    (0): Conv2d(3, 64, kernel_size=(3, 3), stride=(1, 1), padding=(1, 1))\n",
    "    (1): ReLU(inplace=True)\n",
    "    (2): Conv2d(64, 64, kernel_size=(3, 3), stride=(1, 1), padding=(1, 1))\n",
    "    (3): ReLU(inplace=True)\n",
    "    (4): MaxPool2d(kernel_size=2, stride=2, padding=0, dilation=1, ceil_mode=False)\n",
    "    ...\n",
    "    (28): Conv2d(512, 512, kernel_size=(3, 3), stride=(1, 1), padding=(1, 1))\n",
    "    (29): ReLU(inplace=True)\n",
    "    (30): MaxPool2d(kernel_size=2, stride=2, padding=0, dilation=1, ceil_mode=False)\n",
    "  )\n",
    "  (avgpool): AdaptiveAvgPool2d(output_size=(7, 7))\n",
    "  (classifier): Sequential(\n",
    "    (0): Linear(in_features=25088, out_features=4096, bias=True)\n",
    "    (1): ReLU(inplace=True)\n",
    "    (2): Dropout(p=0.5, inplace=False)\n",
    "    (3): Linear(in_features=4096, out_features=4096, bias=True)\n",
    "    (4): ReLU(inplace=True)\n",
    "    (5): Dropout(p=0.5, inplace=False)\n",
    "    (6): Linear(in_features=4096, out_features=1000, bias=True)\n",
    "  )\n",
    ")\n",
    "\n",
    "```"
   ]
  },
  {
   "cell_type": "markdown",
   "metadata": {},
   "source": [
    "We don't want to perform any operation as avgpool. Therefore, we're going to create an Identity module that will leave the input as it is:"
   ]
  },
  {
   "cell_type": "code",
   "execution_count": 74,
   "metadata": {},
   "outputs": [],
   "source": [
    "class Identity(nn.Module):\n",
    "    def __init__(self):\n",
    "        super(Identity, self).__init__()\n",
    "    \n",
    "    def forward(self, x):\n",
    "        return x"
   ]
  },
  {
   "cell_type": "markdown",
   "metadata": {},
   "source": [
    "We also don't want the classifier part to have an output of 1000 features, so we are gonna say that the classifier is just a Linear module with an output of 10:"
   ]
  },
  {
   "cell_type": "code",
   "execution_count": 79,
   "metadata": {},
   "outputs": [],
   "source": [
    "def load_vgg16_model():\n",
    "    model = torchvision.models.vgg16(pretrained=True)\n",
    "\n",
    "    # We just want to perform backpropagation on the last layers. Therefore,\n",
    "    # we're going to deactivate the grad of the parameters until now.\n",
    "    # This will make the traning much more faster as it will only train the new\n",
    "    # added layers!\n",
    "    for param in model.parameters():\n",
    "        param.requires_grad = False\n",
    "\n",
    "    model.avgpool = Identity()\n",
    "    # if we look at line 28 of the summary, we can see that there are 512 output_channels\n",
    "    model.classifier = nn.Sequential(nn.Linear(512, 100),\n",
    "                                    nn.ReLU(),\n",
    "                                    nn.Linear(100, NUM_CLASSES))\n",
    "    return model\n",
    "    \n",
    "# model = load_vgg16_model()\n",
    "\n",
    "# print(model)        # model summary"
   ]
  },
  {
   "cell_type": "markdown",
   "metadata": {},
   "source": [
    "Summary:\n",
    "```\n",
    "VGG(\n",
    "  (features): Sequential(\n",
    "    (0): Conv2d(3, 64, kernel_size=(3, 3), stride=(1, 1), padding=(1, 1))\n",
    "    (1): ReLU(inplace=True)\n",
    "    (2): Conv2d(64, 64, kernel_size=(3, 3), stride=(1, 1), padding=(1, 1))\n",
    "    (3): ReLU(inplace=True)\n",
    "    (4): MaxPool2d(kernel_size=2, stride=2, padding=0, dilation=1, ceil_mode=False)\n",
    "    ...\n",
    "    (28): Conv2d(512, 512, kernel_size=(3, 3), stride=(1, 1), padding=(1, 1))\n",
    "    (29): ReLU(inplace=True)\n",
    "    (30): MaxPool2d(kernel_size=2, stride=2, padding=0, dilation=1, ceil_mode=False)\n",
    "  )\n",
    "  (avgpool): Identity()\n",
    "  (classifier): Sequential(\n",
    "    (0): Linear(in_features=512, out_features=100, bias=True)\n",
    "    (1): ReLU()\n",
    "    (2): Linear(in_features=100, out_features=10, bias=True)\n",
    "  )\n",
    ")\n",
    "```"
   ]
  },
  {
   "cell_type": "markdown",
   "metadata": {},
   "source": [
    "## 6. Loss & Optimizer"
   ]
  },
  {
   "cell_type": "code",
   "execution_count": 63,
   "metadata": {},
   "outputs": [],
   "source": [
    "criterion = nn.CrossEntropyLoss()\n",
    "optimizer = optim.Adam(model.parameters(), lr=LEARNING_RATE)"
   ]
  },
  {
   "cell_type": "markdown",
   "metadata": {},
   "source": [
    "## 7. Checkpoints & Model Loading"
   ]
  },
  {
   "cell_type": "code",
   "execution_count": 64,
   "metadata": {},
   "outputs": [],
   "source": [
    "def save_checkpoint(state, filename=\"checkpoints/my_checkpoint.pth.tar\"):\n",
    "    print(\"=> Saving checkpoint\")\n",
    "    torch.save(state, filename)\n",
    "\n",
    "def load_checkpoint(checkpoint):\n",
    "    print(\"=> Loading checkpoint\")\n",
    "    model.load_state_dict(checkpoint['state_dict'])\n",
    "    optimizer.load_state_dict(checkpoint['optimizer'])"
   ]
  },
  {
   "cell_type": "markdown",
   "metadata": {},
   "source": [
    "## 8. Train Network"
   ]
  },
  {
   "cell_type": "code",
   "execution_count": 69,
   "metadata": {},
   "outputs": [
    {
     "name": "stdout",
     "output_type": "stream",
     "text": [
      "=> Loading checkpoint\n"
     ]
    }
   ],
   "source": [
    "if LOAD_MODEL:\n",
    "    try:\n",
    "        load_checkpoint(torch.load(CHECKPOINT_NAME))\n",
    "    except:\n",
    "        raise FileNotFoundError(\"No previous checkpoints were found.\")\n",
    "\n",
    "print(\"Checkpoint has been loaded correctly!\")"
   ]
  },
  {
   "cell_type": "code",
   "execution_count": null,
   "metadata": {},
   "outputs": [],
   "source": [
    "def reshape_if_simple_nn(data):\n",
    "    if isinstance(model, NN):\n",
    "        # Get to correct shape for the simple neural network: [64, 1, 28, 28] -> [64, 784]\n",
    "        # - The Linear layer expects one input per neuron, therefore,\n",
    "        #   we cannot introduce an array per neuron. We've first to convert it to only 1 value.\n",
    "        data = data.reshape(data.shape[0], -1) # -1 flatten all the following layers\n",
    "    return data"
   ]
  },
  {
   "cell_type": "code",
   "execution_count": 66,
   "metadata": {},
   "outputs": [
    {
     "name": "stdout",
     "output_type": "stream",
     "text": [
      "=> Saving checkpoint\n",
      "Loss at epoch 0 was 0.25962\n",
      "Loss at epoch 1 was 0.07248\n",
      "=> Saving checkpoint\n",
      "Loss at epoch 2 was 0.05244\n"
     ]
    }
   ],
   "source": [
    "for epoch in range(NUM_EPOCHS):\n",
    "    losses = []\n",
    "    loop = tqdm(enumerate(train_loader), total=len(train_loader), leave=False)\n",
    "\n",
    "    if epoch % 2 == 0: # save a checkpoint every two epochs\n",
    "        checkpoint = {'state_dict': model.state_dict(), 'optimizer': optimizer.state_dict()}\n",
    "        save_checkpoint(checkpoint, CHECKPOINT_NAME)\n",
    "\n",
    "    for batch_idx, (data, targets) in loop:\n",
    "        # Carry data to CUDA if possible\n",
    "        data = data.to(device=DEVICE)\n",
    "        targets = targets.to(device=DEVICE)\n",
    "\n",
    "        data = reshape_if_simple_nn(data)\n",
    "\n",
    "        ### Forward ###\n",
    "        scores = model(data)\n",
    "        loss = criterion(scores, targets)\n",
    "        losses.append(loss.item())\n",
    "\n",
    "        ### Backward ###\n",
    "\n",
    "        # For each batch, set all the gradients to 0 to avoid using previous gradients\n",
    "        # on a new batch and run through new problems\n",
    "        optimizer.zero_grad()\n",
    "        loss.backward()\n",
    "\n",
    "        # perform the optimization\n",
    "        optimizer.step()\n",
    "\n",
    "        # update progress bar\n",
    "        loop.set_description(f\"Epoch [{epoch}/{NUM_EPOCHS}]\")\n",
    "        loop.set_postfix(loss = loss.item())\n",
    "    \n",
    "    mean_loss = sum(losses) / len(losses)\n",
    "    print(f\"Loss at epoch {epoch} was {mean_loss:.5f}\")"
   ]
  },
  {
   "cell_type": "markdown",
   "metadata": {},
   "source": [
    "## 9. Accuracy & Test"
   ]
  },
  {
   "cell_type": "code",
   "execution_count": 67,
   "metadata": {},
   "outputs": [],
   "source": [
    "def check_accuracy(loader, model):\n",
    "    dataset_type = \"training\" if loader.dataset.train else 'test'\n",
    "    print(f\"Checking accuracy on {dataset_type} data\")\n",
    "\n",
    "    num_correct = 0\n",
    "    num_samples = 0\n",
    "    model.eval() # in other cases, it'll disable dropout and this kind of layers\n",
    "\n",
    "    # with torch.no_grad() we avoid computing the gradients in the calculations\n",
    "    with torch.no_grad():\n",
    "        for x, y in loader:\n",
    "            x = x.to(device=DEVICE)\n",
    "            y = y.to(device=DEVICE)\n",
    "\n",
    "            x = reshape_if_simple_nn(x)\n",
    "\n",
    "            scores = model(x)\n",
    "            # Remember we said that the output shape is gonna be nn.Linear(50, 10)\n",
    "            # We want to take the greatest value, so just apply argmax\n",
    "            predictions = scores.argmax(dim=1)\n",
    "\n",
    "            # Remember, x, predictions & y are batches of 64 elements.\n",
    "            # if we perform (predictions == y), we'll obtain a tensor like the following one:\n",
    "            # tensor([True, False, True, True]).sum() = 4\n",
    "            num_correct += (predictions == y).sum()\n",
    "            num_samples += predictions.size(0)\n",
    "        \n",
    "        acc = (float(num_correct) / float(num_samples)) * 100\n",
    "        print(f\"Got {num_correct} / {num_samples} with accuracy {acc:.2f}\")\n",
    "    \n",
    "    model.train() # to remove the model.eval() part\n",
    "    return acc"
   ]
  },
  {
   "cell_type": "code",
   "execution_count": 68,
   "metadata": {},
   "outputs": [
    {
     "name": "stdout",
     "output_type": "stream",
     "text": [
      "Checking accuracy on training data\n",
      "Got 59258 / 60000 with accuracy 98.76\n",
      "Checking accuracy on test data\n",
      "Got 9854 / 10000 with accuracy 98.54\n"
     ]
    },
    {
     "data": {
      "text/plain": [
       "98.54"
      ]
     },
     "execution_count": 68,
     "metadata": {},
     "output_type": "execute_result"
    }
   ],
   "source": [
    "check_accuracy(train_loader, model)\n",
    "check_accuracy(test_loader, model)"
   ]
  }
 ],
 "metadata": {
  "interpreter": {
   "hash": "70876cdcfe169b991766b3b6fc1c26dc5a770678ea7f06db3355d725f5c5506d"
  },
  "kernelspec": {
   "display_name": "Python 3.9.7 64-bit ('torch4arm': conda)",
   "language": "python",
   "name": "python3"
  },
  "language_info": {
   "codemirror_mode": {
    "name": "ipython",
    "version": 3
   },
   "file_extension": ".py",
   "mimetype": "text/x-python",
   "name": "python",
   "nbconvert_exporter": "python",
   "pygments_lexer": "ipython3",
   "version": "3.9.7"
  },
  "orig_nbformat": 4
 },
 "nbformat": 4,
 "nbformat_minor": 2
}
